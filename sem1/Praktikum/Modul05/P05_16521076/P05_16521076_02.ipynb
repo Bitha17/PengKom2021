{
 "cells": [
  {
   "cell_type": "code",
   "execution_count": 1,
   "metadata": {},
   "outputs": [],
   "source": [
    "# NIM/Nama  : 16521076/Tabitha Permalla\n",
    "# Tanggal   : 01/12/2021\n",
    "# Deskripsi : Program menuliskan (1) berapa pengguna tidak aktif yang berusia di atas 50 tahun;\n",
    "#             (2) ID pengguna dengan nominal limit kartu kredit terbesar;\n",
    "#             (3) berapa pengguna dengan tipe kartu Blue dan lama penggunaan kartu kredit dalam bulan di atas 40\n",
    "#             (4) banyak pengguna dengan total nominal yang belum dibayar pengguna kartu kredit sama dengan 0 untuk masing-masing kategori penghasilan\n",
    "#             (5) 5 ID pengguna aktif dengan banyak bulan kartu kredit tidak aktif dalam 12 bulan terakhir terbanyak"
   ]
  },
  {
   "cell_type": "code",
   "execution_count": 2,
   "metadata": {},
   "outputs": [],
   "source": [
    "# Import Library\n",
    "import pandas as pd\n",
    "\n",
    "# Import Data\n",
    "df = pd.read_csv(\"P05-01.csv\")"
   ]
  },
  {
   "cell_type": "code",
   "execution_count": 8,
   "metadata": {},
   "outputs": [
    {
     "name": "stdout",
     "output_type": "stream",
     "text": [
      "506\n"
     ]
    }
   ],
   "source": [
    "# Berapa pengguna tidak aktif (Attrited Customer) yang berusia di atas 50 tahun\n",
    "print(len(df.loc[(df[\"Attrition_Flag\"] == \"Attrited Customer\") & (df[\"Customer_Age\"] > 50)]))"
   ]
  },
  {
   "cell_type": "code",
   "execution_count": 27,
   "metadata": {},
   "outputs": [
    {
     "name": "stdout",
     "output_type": "stream",
     "text": [
      "6        810347208\n",
      "45       712661433\n",
      "61       712030833\n",
      "65       788979258\n",
      "70       715971108\n",
      "           ...    \n",
      "10088    709188108\n",
      "10095    789023508\n",
      "10098    716644008\n",
      "10110    718225683\n",
      "10112    708564858\n",
      "Name: CLIENTNUM, Length: 508, dtype: int64\n"
     ]
    }
   ],
   "source": [
    "# ID pengguna dengan nominal limit kartu kredit terbesar\n",
    "Cmax = df[\"Credit_Limit\"].max()\n",
    "print(df.loc[(df[\"Credit_Limit\"] == Cmax), \"CLIENTNUM\"])"
   ]
  },
  {
   "cell_type": "code",
   "execution_count": 19,
   "metadata": {},
   "outputs": [
    {
     "name": "stdout",
     "output_type": "stream",
     "text": [
      "2348\n"
     ]
    }
   ],
   "source": [
    "# Berapa pengguna dengan tipe kartu Blue dan lama penggunaan kartu kredit dalam bulan di atas 40\n",
    "print(len(df.loc[(df[\"Card_Category\"] == \"Blue\") & (df[\"Months_on_book\"] > 40)]))"
   ]
  },
  {
   "cell_type": "code",
   "execution_count": 25,
   "metadata": {},
   "outputs": [
    {
     "name": "stdout",
     "output_type": "stream",
     "text": [
      "Less than $40K    899\n",
      "$40K - $60K       420\n",
      "$80K - $120K      344\n",
      "$60K - $80K       340\n",
      "Unknown           303\n",
      "$120K +           164\n",
      "Name: Income_Category, dtype: int64\n"
     ]
    }
   ],
   "source": [
    "# banyak pengguna dengan total nominal yang belum dibayar pengguna kartu kredit sama dengan 0 untuk masing-masing kategori penghasilan\n",
    "df1 = df.loc[df[\"Total_Revolving_Bal\"] == 0]\n",
    "print(df1[\"Income_Category\"].value_counts())"
   ]
  },
  {
   "cell_type": "code",
   "execution_count": 37,
   "metadata": {},
   "outputs": [
    {
     "name": "stdout",
     "output_type": "stream",
     "text": [
      "      CLIENTNUM     Attrition_Flag  Customer_Age Gender  Dependent_count  \\\n",
      "3220  709381383  Existing Customer            49      M                4   \n",
      "7589  710542983  Existing Customer            48      F                4   \n",
      "2060  789607983  Existing Customer            38      M                3   \n",
      "749   711668283  Existing Customer            48      M                4   \n",
      "6023  710864358  Existing Customer            51      F                2   \n",
      "\n",
      "     Education_Level Marital_Status Income_Category Card_Category  \\\n",
      "3220        Graduate        Married     $60K - $80K          Blue   \n",
      "7589        Graduate        Married  Less than $40K          Blue   \n",
      "2060     High School        Married     $40K - $60K          Blue   \n",
      "749       Uneducated        Married    $80K - $120K          Blue   \n",
      "6023       Doctorate        Married         Unknown          Blue   \n",
      "\n",
      "      Months_on_book  Months_Inactive_12_mon  Credit_Limit  \\\n",
      "3220              36                       6        2952.0   \n",
      "7589              21                       6        1930.0   \n",
      "2060              32                       6        8603.0   \n",
      "749               37                       6       30948.0   \n",
      "6023              45                       6        6501.0   \n",
      "\n",
      "      Total_Revolving_Bal  Total_Trans_Amt  Total_Trans_Ct  \\\n",
      "3220                 2517             3830              77   \n",
      "7589                    0             5033              87   \n",
      "2060                 1046             1758              40   \n",
      "749                  2404             1511              35   \n",
      "6023                    0             5074              81   \n",
      "\n",
      "      Avg_Utilization_Ratio  \n",
      "3220                  0.853  \n",
      "7589                  0.000  \n",
      "2060                  0.122  \n",
      "749                   0.078  \n",
      "6023                  0.000  \n"
     ]
    }
   ],
   "source": [
    "# 5 ID pengguna aktif (Existing Customer) dengan banyak bulan kartu kredit tidak aktif dalam 12 bulan terakhir terbanyak\n",
    "df2 = df.loc[df[\"Attrition_Flag\"] == \"Existing Customer\"]\n",
    "print(df2.sort_values([\"Months_Inactive_12_mon\"], ascending=[False])[:5])"
   ]
  }
 ],
 "metadata": {
  "interpreter": {
   "hash": "7a542ca580817fc4dd55327026e074e2fa0cd470fc5dee9350c2d8b13822db8d"
  },
  "kernelspec": {
   "display_name": "Python 3.8.5 32-bit",
   "language": "python",
   "name": "python3"
  },
  "language_info": {
   "codemirror_mode": {
    "name": "ipython",
    "version": 3
   },
   "file_extension": ".py",
   "mimetype": "text/x-python",
   "name": "python",
   "nbconvert_exporter": "python",
   "pygments_lexer": "ipython3",
   "version": "3.8.5"
  },
  "orig_nbformat": 4
 },
 "nbformat": 4,
 "nbformat_minor": 2
}
