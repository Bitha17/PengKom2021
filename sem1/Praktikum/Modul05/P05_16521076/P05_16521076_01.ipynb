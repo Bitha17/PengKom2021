{
 "cells": [
  {
   "cell_type": "code",
   "execution_count": 1,
   "metadata": {},
   "outputs": [],
   "source": [
    "# NIM/Nama  : 16521076/Tabitha Permalla\n",
    "# Tanggal   : 01/12/2021\n",
    "# Deskripsi : Program menuliskan (1) banyaknya data; (2) pajak bangunan per tahun terbesar; \n",
    "#             (3) 5 rumah dengan harga sewa per tahun terbesar; (4) rumah yang berada di kota Rio de Janeiro\n",
    "#             (5) Nilai korelasi antara jumlah tempat parkir dengan pajak tanah per tahun"
   ]
  },
  {
   "cell_type": "code",
   "execution_count": 2,
   "metadata": {},
   "outputs": [],
   "source": [
    "# Import Library\n",
    "import pandas as pd\n",
    "\n",
    "# Load Dataset\n",
    "df = pd.read_csv(\"P05-02.csv\")"
   ]
  },
  {
   "cell_type": "code",
   "execution_count": 3,
   "metadata": {},
   "outputs": [
    {
     "name": "stdout",
     "output_type": "stream",
     "text": [
      "8231\n"
     ]
    }
   ],
   "source": [
    "# Banyak data\n",
    "print(len(df))"
   ]
  },
  {
   "cell_type": "code",
   "execution_count": 6,
   "metadata": {},
   "outputs": [
    {
     "name": "stdout",
     "output_type": "stream",
     "text": [
      "313700\n"
     ]
    }
   ],
   "source": [
    "# Nilai pajak bangunan per tahun terbesar\n",
    "print(df[\"property_tax\"].max())"
   ]
  },
  {
   "cell_type": "code",
   "execution_count": 8,
   "metadata": {},
   "outputs": [
    {
     "name": "stdout",
     "output_type": "stream",
     "text": [
      "           city  area  rooms  bathroom  parking_spaces  floor     animal  \\\n",
      "1978  Sao Paulo    80      2         1               1      1      acept   \n",
      "933   Sao Paulo   315      3         5               2     14  not acept   \n",
      "2166  Sao Paulo   285      4         5               4      6      acept   \n",
      "1302  Sao Paulo   410      4         5               5      1      acept   \n",
      "129   Sao Paulo   660      4         5               5     12      acept   \n",
      "\n",
      "          furniture  homeowner_tax  rent_amount  property_tax  fire_insurance  \\\n",
      "1978  not furnished            875        24000             0             305   \n",
      "933   not furnished           4300        20000           959             254   \n",
      "2166      furnished         200000        20000          1834             254   \n",
      "1302  not furnished              0        20000             0             254   \n",
      "129       furnished           4800        20000          1750             254   \n",
      "\n",
      "       total  \n",
      "1978   25180  \n",
      "933    25510  \n",
      "2166  222100  \n",
      "1302   20250  \n",
      "129    26800  \n"
     ]
    }
   ],
   "source": [
    "# 5 Rumah dengan harga sewa per tahun terbesar\n",
    "print(df.sort_values([\"rent_amount\"], ascending=[False])[:5])"
   ]
  },
  {
   "cell_type": "code",
   "execution_count": 9,
   "metadata": {},
   "outputs": [
    {
     "name": "stdout",
     "output_type": "stream",
     "text": [
      "                city  area  rooms  bathroom  parking_spaces  floor     animal  \\\n",
      "5     Rio de Janeiro    72      2         1               0      7      acept   \n",
      "8     Rio de Janeiro    35      1         1               0      2      acept   \n",
      "15    Rio de Janeiro    88      2         3               1      9  not acept   \n",
      "16    Rio de Janeiro    56      2         1               0      8      acept   \n",
      "19    Rio de Janeiro    90      3         2               1      7      acept   \n",
      "...              ...   ...    ...       ...             ...    ...        ...   \n",
      "8208  Rio de Janeiro    60      2         2               0     13      acept   \n",
      "8215  Rio de Janeiro   250      3         2               1     11      acept   \n",
      "8224  Rio de Janeiro    98      2         1               0      1      acept   \n",
      "8229  Rio de Janeiro    70      3         3               0      8  not acept   \n",
      "8230  Rio de Janeiro   120      2         2               2      8      acept   \n",
      "\n",
      "          furniture  homeowner_tax  rent_amount  property_tax  fire_insurance  \\\n",
      "5     not furnished            740         1900            85              25   \n",
      "8         furnished            590         2300            35              30   \n",
      "15        furnished           1614         3500           221              16   \n",
      "16    not furnished            800         1220             0              16   \n",
      "19    not furnished            800         1800           118              24   \n",
      "...             ...            ...          ...           ...             ...   \n",
      "8208  not furnished            600         2700           154              35   \n",
      "8215  not furnished           2000         2700           500              35   \n",
      "8224  not furnished            560         3900           184              51   \n",
      "8229      furnished            980         6000           332              78   \n",
      "8230      furnished           1585        12000           279             155   \n",
      "\n",
      "      total  \n",
      "5      2750  \n",
      "8      2955  \n",
      "15     5351  \n",
      "16     2036  \n",
      "19     2742  \n",
      "...     ...  \n",
      "8208   3489  \n",
      "8215   5235  \n",
      "8224   4695  \n",
      "8229   7390  \n",
      "8230  14020  \n",
      "\n",
      "[1394 rows x 13 columns]\n"
     ]
    }
   ],
   "source": [
    "# Rumah yang berada di kota Rio de Janeiro\n",
    "print(df.loc[(df[\"city\"]) == \"Rio de Janeiro\"])"
   ]
  },
  {
   "cell_type": "code",
   "execution_count": 10,
   "metadata": {},
   "outputs": [
    {
     "name": "stdout",
     "output_type": "stream",
     "text": [
      "0.02758568963676595\n"
     ]
    }
   ],
   "source": [
    "# Nilai korelasi antara jumlah tempat parkir dengan pajak tanah per tahun\n",
    "print(df[\"parking_spaces\"].corr(df[\"homeowner_tax\"]))"
   ]
  },
  {
   "cell_type": "code",
   "execution_count": null,
   "metadata": {},
   "outputs": [],
   "source": [
    "# Apakah berkolerasi lurus, terbalik, atau tidak berkorelasi? Jelaskan\n",
    "# JAWAB : Nilai korelasi bernilai mendekati 0, \n",
    "#         yang menandakan bahwa jumlah tempat parkir dan pajak tanah tidak berkorelasi"
   ]
  }
 ],
 "metadata": {
  "interpreter": {
   "hash": "7a542ca580817fc4dd55327026e074e2fa0cd470fc5dee9350c2d8b13822db8d"
  },
  "kernelspec": {
   "display_name": "Python 3.8.5 32-bit",
   "language": "python",
   "name": "python3"
  },
  "language_info": {
   "codemirror_mode": {
    "name": "ipython",
    "version": 3
   },
   "file_extension": ".py",
   "mimetype": "text/x-python",
   "name": "python",
   "nbconvert_exporter": "python",
   "pygments_lexer": "ipython3",
   "version": "3.8.5"
  },
  "orig_nbformat": 4
 },
 "nbformat": 4,
 "nbformat_minor": 2
}
